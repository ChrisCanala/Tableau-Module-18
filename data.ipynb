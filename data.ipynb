{
 "cells": [
  {
   "cell_type": "code",
   "execution_count": 1,
   "metadata": {},
   "outputs": [],
   "source": [
    "import pandas as pd"
   ]
  },
  {
   "cell_type": "code",
   "execution_count": 2,
   "metadata": {},
   "outputs": [
    {
     "name": "stdout",
     "output_type": "stream",
     "text": [
      "(55613, 13)\n",
      "(65581, 13)\n",
      "(79116, 13)\n"
     ]
    }
   ],
   "source": [
    "dtypes = {\"ride_id\": str,\n",
    "          \"rideable_type\": str,\n",
    "          \"started_at\": pd.Timestamp,\n",
    "          \"ended_at\": pd.Timestamp,\n",
    "          \"start_station_name\": \"str\",\n",
    "          \"start_station_id\": \"str\",\n",
    "          \"end_station_name\": \"str\",\n",
    "          \"end_station_id\": \"str\",\n",
    "          \"start_lat\": float,\n",
    "          \"start_lng\": float,\n",
    "          \"end_lat\": float,\n",
    "          \"end_lng\": float,\n",
    "          \"member_casual\": \"str\"}\n",
    "data_feb_23 = pd.read_csv(r\"C:\\Users\\ccana\\OneDrive\\Public\\Documents\\Tableau homework\\Data\\JC-202402-citibike-tripdata.csv\", header=0, parse_dates=[2, 3])\n",
    "data_march_23 = pd.read_csv(r\"C:\\Users\\ccana\\OneDrive\\Public\\Documents\\Tableau homework\\Data\\JC-202403-citibike-tripdata.csv\", header=0, parse_dates=[2, 3])\n",
    "data_april_23 = pd.read_csv(r\"C:\\Users\\ccana\\OneDrive\\Public\\Documents\\Tableau homework\\Data\\JC-202404-citibike-tripdata.csv\", header=0, parse_dates=[2, 3])\n",
    "print(data_feb_23.shape)\n",
    "print(data_march_23.shape)\n",
    "print(data_april_23.shape)"
   ]
  },
  {
   "cell_type": "code",
   "execution_count": 3,
   "metadata": {},
   "outputs": [
    {
     "name": "stdout",
     "output_type": "stream",
     "text": [
      "<class 'pandas.core.frame.DataFrame'>\n",
      "RangeIndex: 55613 entries, 0 to 55612\n",
      "Data columns (total 13 columns):\n",
      " #   Column              Non-Null Count  Dtype         \n",
      "---  ------              --------------  -----         \n",
      " 0   ride_id             55613 non-null  object        \n",
      " 1   rideable_type       55613 non-null  object        \n",
      " 2   started_at          55613 non-null  datetime64[ns]\n",
      " 3   ended_at            55613 non-null  datetime64[ns]\n",
      " 4   start_station_name  55607 non-null  object        \n",
      " 5   start_station_id    55607 non-null  object        \n",
      " 6   end_station_name    55484 non-null  object        \n",
      " 7   end_station_id      55484 non-null  object        \n",
      " 8   start_lat           55613 non-null  float64       \n",
      " 9   start_lng           55613 non-null  float64       \n",
      " 10  end_lat             55597 non-null  float64       \n",
      " 11  end_lng             55597 non-null  float64       \n",
      " 12  member_casual       55613 non-null  object        \n",
      "dtypes: datetime64[ns](2), float64(4), object(7)\n",
      "memory usage: 5.5+ MB\n"
     ]
    }
   ],
   "source": [
    "data_feb_23.info()"
   ]
  },
  {
   "cell_type": "code",
   "execution_count": 4,
   "metadata": {},
   "outputs": [
    {
     "name": "stdout",
     "output_type": "stream",
     "text": [
      "rideable_type\n",
      "electric_bike    32216\n",
      "classic_bike     23397\n",
      "Name: count, dtype: int64\n",
      "member_casual\n",
      "member    46664\n",
      "casual     8949\n",
      "Name: count, dtype: int64\n"
     ]
    }
   ],
   "source": [
    "print(data_feb_23['rideable_type'].value_counts())\n",
    "print(data_feb_23['member_casual'].value_counts())"
   ]
  },
  {
   "cell_type": "code",
   "execution_count": 5,
   "metadata": {},
   "outputs": [
    {
     "name": "stdout",
     "output_type": "stream",
     "text": [
      "(199674, 12)\n",
      "<class 'pandas.core.frame.DataFrame'>\n",
      "Index: 199674 entries, 0 to 79115\n",
      "Data columns (total 12 columns):\n",
      " #   Column              Non-Null Count   Dtype         \n",
      "---  ------              --------------   -----         \n",
      " 0   rideable_type       199674 non-null  object        \n",
      " 1   started_at          199674 non-null  datetime64[ns]\n",
      " 2   ended_at            199674 non-null  datetime64[ns]\n",
      " 3   start_station_name  199674 non-null  object        \n",
      " 4   start_station_id    199674 non-null  object        \n",
      " 5   end_station_name    199674 non-null  object        \n",
      " 6   end_station_id      199674 non-null  object        \n",
      " 7   start_lat           199674 non-null  float64       \n",
      " 8   start_lng           199674 non-null  float64       \n",
      " 9   end_lat             199674 non-null  float64       \n",
      " 10  end_lng             199674 non-null  float64       \n",
      " 11  member_casual       199674 non-null  bool          \n",
      "dtypes: bool(1), datetime64[ns](2), float64(4), object(5)\n",
      "memory usage: 18.5+ MB\n"
     ]
    }
   ],
   "source": [
    "map_rideable_type = {\"classic_bike\": \"C\",\n",
    "                     \"electric_bike\": \"E\",\n",
    "                     \"docked_bike\": \"D\"}\n",
    "map_member_casual = {\"member\": True,\n",
    "                     \"casual\": False}\n",
    "\n",
    "df_all_trip_data = pd.concat([data_feb_23, data_march_23, data_april_23])\n",
    "df_all_trip_data.drop(\"ride_id\", axis=1, inplace=True)  # don't need id column\n",
    "df_all_trip_data.dropna(axis=0, inplace=True)  # drop any row with missing data\n",
    "# map strings to shorter values\n",
    "df_all_trip_data[\"rideable_type\"] = df_all_trip_data[\"rideable_type\"].map(map_rideable_type)\n",
    "df_all_trip_data[\"member_casual\"] = df_all_trip_data[\"member_casual\"].map(map_member_casual)\n",
    "print(df_all_trip_data.shape)\n",
    "df_all_trip_data.info()"
   ]
  },
  {
   "cell_type": "code",
   "execution_count": 6,
   "metadata": {},
   "outputs": [],
   "source": [
    "df_all_trip_data.to_csv('data/citibike_feb_march_april_23.csv', index=False, header=True)"
   ]
  }
 ],
 "metadata": {
  "kernelspec": {
   "display_name": "base",
   "language": "python",
   "name": "python3"
  },
  "language_info": {
   "codemirror_mode": {
    "name": "ipython",
    "version": 3
   },
   "file_extension": ".py",
   "mimetype": "text/x-python",
   "name": "python",
   "nbconvert_exporter": "python",
   "pygments_lexer": "ipython3",
   "version": "3.11.7"
  }
 },
 "nbformat": 4,
 "nbformat_minor": 2
}
